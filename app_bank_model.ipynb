{
  "nbformat": 4,
  "nbformat_minor": 0,
  "metadata": {
    "colab": {
      "name": "app_bank_model.ipynb",
      "provenance": [],
      "private_outputs": true,
      "collapsed_sections": [],
      "toc_visible": true
    },
    "kernelspec": {
      "name": "python3",
      "display_name": "Python 3"
    }
  },
  "cells": [
    {
      "cell_type": "markdown",
      "metadata": {
        "id": "kIcqKcbBdNXO",
        "colab_type": "text"
      },
      "source": [
        "### Mont Drive from Google Colab"
      ]
    },
    {
      "cell_type": "code",
      "metadata": {
        "id": "46T2nCDvaHeG",
        "colab_type": "code",
        "colab": {}
      },
      "source": [
        "from google.colab import drive\n",
        "drive.mount('/content/drive')"
      ],
      "execution_count": 0,
      "outputs": []
    },
    {
      "cell_type": "markdown",
      "metadata": {
        "id": "OLwDtCeBaSP3",
        "colab_type": "text"
      },
      "source": [
        "### import libraries"
      ]
    },
    {
      "cell_type": "code",
      "metadata": {
        "id": "4_Bp49B5aV3f",
        "colab_type": "code",
        "colab": {}
      },
      "source": [
        "import pandas as pd\n",
        "import numpy as np\n",
        "\n",
        "# importations functions from machine learning\n",
        "from sklearn.linear_model import LogisticRegression\n",
        "from sklearn.model_selection import train_test_split\n",
        "from sklearn.feature_extraction.text import TfidfVectorizer\n",
        "from sklearn.metrics import classification_report, confusion_matrix\n",
        "\n",
        "# used from transform class model from machine learning in physical file\n",
        "from sklearn.externals import joblib\n",
        "\n",
        "# libraries from plot graphs\n",
        "import matplotlib.pyplot as plt\n",
        "import plotly.graph_objs as go\n",
        "import plotly.offline as py\n",
        "import plotly\n",
        "\n",
        "# libraries from format same tables (focus in confusion matrix)\n",
        "from tkinter import font\n",
        "import seaborn\n",
        "\n",
        "# libraries from configuration basic of loggers\n",
        "import logging\n",
        "import sys\n",
        "\n",
        "# libraries from msg warning mensages, in this case, from ignore all\n",
        "import warnings\n",
        "warnings.filterwarnings('ignore')\n",
        "\n",
        "## functions about head in pandas, this case otimized display from same lines anda width columns\n",
        "pd.set_option('display.max_colwidth', -1)\n",
        "pd.set_option('display.max_rows', 10)"
      ],
      "execution_count": 0,
      "outputs": []
    },
    {
      "cell_type": "markdown",
      "metadata": {
        "id": "5oDGqnncabTv",
        "colab_type": "text"
      },
      "source": [
        "### logs info"
      ]
    },
    {
      "cell_type": "code",
      "metadata": {
        "id": "PMw9x4NwadaG",
        "colab_type": "code",
        "colab": {}
      },
      "source": [
        "logging.basicConfig(stream=sys.stdout, level=logging.INFO, \n",
        "                     format='%(asctime)s;%(levelname)s;%(message)s',\n",
        "                     datefmt='%m/%d/%Y %I:%M:%S %p')\n",
        "logger = logging.getLogger('Text_process')"
      ],
      "execution_count": 0,
      "outputs": []
    },
    {
      "cell_type": "markdown",
      "metadata": {
        "id": "L9ZL2-KsagGf",
        "colab_type": "text"
      },
      "source": [
        "### Maps from directorys"
      ]
    },
    {
      "cell_type": "code",
      "metadata": {
        "id": "3c5-5GuVai5A",
        "colab_type": "code",
        "colab": {}
      },
      "source": [
        "datalake=\"/content/drive/My Drive/datasets/app_bank/datalake\"\n",
        "transient=f\"{datalake}/transient\"\n",
        "raw=f\"{datalake}/raw\"\n",
        "trusted=f\"{datalake}/trusted\"\n",
        "refined=f\"{datalake}/refined\"\n",
        "rules=f\"{datalake}/rules\"\n",
        "model_dir = f'{datalake}/model_dir'\n",
        "save_fil = f'{datalake}/save_file'"
      ],
      "execution_count": 0,
      "outputs": []
    },
    {
      "cell_type": "markdown",
      "metadata": {
        "id": "NnCUJuN9gchP",
        "colab_type": "text"
      },
      "source": [
        "### Functions of transformation"
      ]
    },
    {
      "cell_type": "code",
      "metadata": {
        "id": "346DdGkkgf6K",
        "colab_type": "code",
        "colab": {}
      },
      "source": [
        "# function for transformation text in features, this case i'am transform column job in features from logistic regression model\n",
        "def transformVectorize(df,x,categories):\n",
        "    df_features = df[f\"{x}\"].values\n",
        "    df_categories = df[f\"{categories}\"].values\n",
        "\n",
        "    vectorizer = TfidfVectorizer(tokenizer=lambda doc: doc, lowercase=False)\n",
        "    features = vectorizer.fit_transform(df_features)\n",
        "    \n",
        "    return features,df_categories\n",
        "\n",
        "# i'am using logistic regression model because i prefer work with variables categories\n",
        "def modelLogistcRegression(df,fet,category,filename):\n",
        "    \n",
        "    x_train,x_test,y_train,y_test = train_test_split(fet,category,test_size=0.3, random_state=42)\n",
        "\n",
        "    classifer = LogisticRegression(n_jobs=1,class_weight='balanced', solver='lbfgs',max_iter=30,multi_class='ovr')\n",
        "    model = classifer.fit(x_train,y_train)\n",
        "    \n",
        "    #Save model\n",
        "    file_model = f'{model_dir}/model_pip_app_bk_{filename}.joblib' \n",
        "    joblib.dump(model, file_model)    \n",
        "    \n",
        "    return x_train,x_test,y_train,y_test,model\n",
        "\n",
        "# recovery file model from logistic regression because is more fast to read\n",
        "def recoveryLogistcRegression(filename):\n",
        "\n",
        "  file_model = f'{model_dir}/model_pip_app_bk_{filename}.joblib'  \n",
        "  model_loader = joblib.load(file_model)\n",
        "\n",
        "  return model_loader\n",
        "\n",
        "# confusion matrix for avaliable the precision of model\n",
        "def confusionMatrix(x,y,model):\n",
        "  conf_mat = confusion_matrix(x, y)\n",
        "  fig, ax = plt.subplots(figsize=(6,6))\n",
        "  seaborn.heatmap(conf_mat, annot=True, cmap=\"Blues\", fmt='d',\n",
        "              xticklabels=model.classes_, \n",
        "              yticklabels=model.classes_)\n",
        "  plt.ylabel('Actual')\n",
        "  plt.xlabel('Predicted')\n",
        "  plt.title(\"CONFUSION MATRIX - Logistic Regression \\n\", size=12);"
      ],
      "execution_count": 0,
      "outputs": []
    },
    {
      "cell_type": "markdown",
      "metadata": {
        "id": "XT0OrVqlazIn",
        "colab_type": "text"
      },
      "source": [
        "### Load from CSV dataset"
      ]
    },
    {
      "cell_type": "code",
      "metadata": {
        "id": "Aopbz1q-a2rq",
        "colab_type": "code",
        "colab": {}
      },
      "source": [
        "df = pd.read_csv(f'{transient}/bank-full.csv',sep=';')\n",
        "df.head()"
      ],
      "execution_count": 0,
      "outputs": []
    },
    {
      "cell_type": "code",
      "metadata": {
        "id": "t1jO-eMMa4Zr",
        "colab_type": "code",
        "colab": {}
      },
      "source": [
        "df.info()"
      ],
      "execution_count": 0,
      "outputs": []
    },
    {
      "cell_type": "code",
      "metadata": {
        "id": "D4aGCvr1a7Lx",
        "colab_type": "code",
        "colab": {}
      },
      "source": [
        "df_jobs = df.groupby(['job']).count()\n",
        "df_jobs"
      ],
      "execution_count": 0,
      "outputs": []
    },
    {
      "cell_type": "code",
      "metadata": {
        "id": "iZB4pv7dkAYK",
        "colab_type": "code",
        "colab": {}
      },
      "source": [
        "print(df.job.value_counts())"
      ],
      "execution_count": 0,
      "outputs": []
    },
    {
      "cell_type": "markdown",
      "metadata": {
        "id": "vpF8ZFMUbAgn",
        "colab_type": "text"
      },
      "source": [
        "#### 1) Qual profissão tem mais tendência a fazer um empréstimo? De qual tipo?"
      ]
    },
    {
      "cell_type": "code",
      "metadata": {
        "id": "SdkVpPBXke4O",
        "colab_type": "code",
        "colab": {}
      },
      "source": [
        "# select distinct values from column job\n",
        "print(df.job.nunique())"
      ],
      "execution_count": 0,
      "outputs": []
    },
    {
      "cell_type": "markdown",
      "metadata": {
        "id": "FTbWcyzccNmX",
        "colab_type": "text"
      },
      "source": [
        "### Creating model from Machine Learning Logistic Regression"
      ]
    },
    {
      "cell_type": "markdown",
      "metadata": {
        "id": "UZ1xaqMn9xSL",
        "colab_type": "text"
      },
      "source": [
        "##### transform jobs in features from model ML"
      ]
    },
    {
      "cell_type": "code",
      "metadata": {
        "id": "v2JU_UYahIs_",
        "colab_type": "code",
        "colab": {}
      },
      "source": [
        "features,category = transformVectorize(df,'job','loan')\n",
        "features.shape\n",
        "features[:3].toarray()"
      ],
      "execution_count": 0,
      "outputs": []
    },
    {
      "cell_type": "markdown",
      "metadata": {
        "id": "Q8qraGgX96dr",
        "colab_type": "text"
      },
      "source": [
        "##### Training model used loan from categories and jobs in features (recovery modelFile)"
      ]
    },
    {
      "cell_type": "markdown",
      "metadata": {
        "id": "A5_RkjfdwW4p",
        "colab_type": "text"
      },
      "source": [
        "##### the precision in 'yes' categorie is down but recall is up, more details we see in confusion matrix"
      ]
    },
    {
      "cell_type": "code",
      "metadata": {
        "id": "x5HCdCxmhogy",
        "colab_type": "code",
        "colab": {}
      },
      "source": [
        "x_train,x_test,y_train,y_test,model = modelLogistcRegression(df,features,category,'supervisioned')\n",
        "model_loader = recoveryLogistcRegression('supervisioned')\n",
        "a_pred = model_loader.predict(x_test)\n",
        "print(classification_report(y_test,a_pred))"
      ],
      "execution_count": 0,
      "outputs": []
    },
    {
      "cell_type": "markdown",
      "metadata": {
        "id": "wOygxn-K4nQh",
        "colab_type": "text"
      },
      "source": [
        "##### Avaliable model using Confusion Matrix"
      ]
    },
    {
      "cell_type": "markdown",
      "metadata": {
        "id": "NS5hvXRIxNIu",
        "colab_type": "text"
      },
      "source": [
        "##### Avaliable the model, we see the model predict more incorrecty because the false positive the number is very large, but the false negative is more down.. we needs to calibrated model from predictions"
      ]
    },
    {
      "cell_type": "code",
      "metadata": {
        "id": "gbPrmHYMi-CU",
        "colab_type": "code",
        "colab": {}
      },
      "source": [
        "confusionMatrix(y_test,a_pred,model)"
      ],
      "execution_count": 0,
      "outputs": []
    },
    {
      "cell_type": "markdown",
      "metadata": {
        "id": "-zvarLFLXPtQ",
        "colab_type": "text"
      },
      "source": [
        "### Prediction in dataset (real world)"
      ]
    },
    {
      "cell_type": "markdown",
      "metadata": {
        "id": "ifkYyUOlu88d",
        "colab_type": "text"
      },
      "source": [
        "#### Using 13k predictions of model training and apply in dataset"
      ]
    },
    {
      "cell_type": "code",
      "metadata": {
        "id": "Y4A2VdwBqJ6u",
        "colab_type": "code",
        "colab": {}
      },
      "source": [
        "pred = np.array(a_pred)\n",
        "print(len(pred))"
      ],
      "execution_count": 0,
      "outputs": []
    },
    {
      "cell_type": "code",
      "metadata": {
        "id": "edtdB6PJXO_D",
        "colab_type": "code",
        "colab": {}
      },
      "source": [
        "df_novo = df.head(len(pred))\n",
        "df_novo['predicao'] = a_pred"
      ],
      "execution_count": 0,
      "outputs": []
    },
    {
      "cell_type": "markdown",
      "metadata": {
        "id": "TczmMLmQvO4S",
        "colab_type": "text"
      },
      "source": [
        "##### display from predictions in dataset"
      ]
    },
    {
      "cell_type": "code",
      "metadata": {
        "id": "rFIafKO0bFuP",
        "colab_type": "code",
        "colab": {}
      },
      "source": [
        "df_novo.head(200)"
      ],
      "execution_count": 0,
      "outputs": []
    },
    {
      "cell_type": "markdown",
      "metadata": {
        "id": "VQk7FKMAvUI9",
        "colab_type": "text"
      },
      "source": [
        "##### Counting jobs predictions distinct datasets because i preferer to visualize results separeted"
      ]
    },
    {
      "cell_type": "code",
      "metadata": {
        "id": "PaytA1o4wflH",
        "colab_type": "code",
        "colab": {}
      },
      "source": [
        "df_sim = df_novo.where(df_novo['predicao']=='yes').groupby(['job'])['job'].count().sort_values(ascending=False)\n",
        "df_sim.head(200)"
      ],
      "execution_count": 0,
      "outputs": []
    },
    {
      "cell_type": "code",
      "metadata": {
        "id": "MTfmq11hyOTI",
        "colab_type": "code",
        "colab": {}
      },
      "source": [
        "df_sim = df_novo.where(df_novo['predicao']=='no').groupby(['job'])['job'].count().sort_values(ascending=False)\n",
        "df_sim.head(200)"
      ],
      "execution_count": 0,
      "outputs": []
    },
    {
      "cell_type": "markdown",
      "metadata": {
        "id": "69moGb6vvjak",
        "colab_type": "text"
      },
      "source": [
        "##### Percent predictions loan"
      ]
    },
    {
      "cell_type": "code",
      "metadata": {
        "id": "2Vpwo9bMy365",
        "colab_type": "code",
        "colab": {}
      },
      "source": [
        "df_n = df_novo.groupby(['predicao'])['predicao'].count()\n",
        "df_n = df_n.transform(lambda x: x/sum(x))\n",
        "df_n.head()"
      ],
      "execution_count": 0,
      "outputs": []
    },
    {
      "cell_type": "markdown",
      "metadata": {
        "id": "SJOV_Uycvr3W",
        "colab_type": "text"
      },
      "source": [
        "##### Percent preditions details job, this case blue-collar have more probabilities in adhere to a new credit in bank"
      ]
    },
    {
      "cell_type": "code",
      "metadata": {
        "id": "GL-7DaHV507x",
        "colab_type": "code",
        "colab": {}
      },
      "source": [
        "df_m = df_novo.groupby(['job'])['job'].count()\n",
        "df_m.transform(lambda x: x/sum(x)).sort_values(ascending=False).head()"
      ],
      "execution_count": 0,
      "outputs": []
    },
    {
      "cell_type": "markdown",
      "metadata": {
        "id": "WFM8f0btcYY6",
        "colab_type": "text"
      },
      "source": [
        "#### 2) Fazendo uma relação entre número de contatos e sucesso da campanha quais são os pontos relevantes a serem observados?"
      ]
    },
    {
      "cell_type": "markdown",
      "metadata": {
        "id": "MB0R6Rv3yupe",
        "colab_type": "text"
      },
      "source": [
        "#### Answers"
      ]
    },
    {
      "cell_type": "markdown",
      "metadata": {
        "id": "nXEO18jix84B",
        "colab_type": "text"
      },
      "source": [
        "##### We see the factor of correlation and using helmap we observed the acording color the previous before campaign there more influence in result"
      ]
    },
    {
      "cell_type": "code",
      "metadata": {
        "id": "Z3K2zfk3cYsO",
        "colab_type": "code",
        "colab": {}
      },
      "source": [
        "df.loc[(df['poutcome']=='success')]\\\n",
        ".corr(method='spearman').style.format('{:.2}').background_gradient(cmap=plt.get_cmap('coolwarm'),axis=1)"
      ],
      "execution_count": 0,
      "outputs": []
    },
    {
      "cell_type": "code",
      "metadata": {
        "id": "rmu6nXSecaAq",
        "colab_type": "code",
        "colab": {}
      },
      "source": [
        "df['campaign'].loc[(df['poutcome']=='success')].corr(df['previous'],method='spearman')"
      ],
      "execution_count": 0,
      "outputs": []
    },
    {
      "cell_type": "markdown",
      "metadata": {
        "id": "H-Hp-ABhciCl",
        "colab_type": "text"
      },
      "source": [
        "#### 3) Baseando-se nos resultados de adesão desta campanha qual o número médio e o máximo de ligações que você indica para otimizar a adesão ?"
      ]
    },
    {
      "cell_type": "markdown",
      "metadata": {
        "id": "Jhl1KgxByzKZ",
        "colab_type": "text"
      },
      "source": [
        "#### Answer"
      ]
    },
    {
      "cell_type": "markdown",
      "metadata": {
        "id": "PIiSFQmiy9JD",
        "colab_type": "text"
      },
      "source": [
        "##### we see the acording default metrics, the poutcome success and 'outher' demostrated potencial in maximizated accession because the numbers min and max is not large (mean = 1.8 success, other = 2.46 and min 1.0  for both and max between 11.0 and 16.0)"
      ]
    },
    {
      "cell_type": "code",
      "metadata": {
        "id": "Qi6VEf7rciVi",
        "colab_type": "code",
        "colab": {}
      },
      "source": [
        "df.groupby(['poutcome'])['campaign'].describe().head()"
      ],
      "execution_count": 0,
      "outputs": []
    },
    {
      "cell_type": "markdown",
      "metadata": {
        "id": "3fnahJS4cn_B",
        "colab_type": "text"
      },
      "source": [
        "#### 4) O resultado da campanha anterior tem relevância na campanha atual?"
      ]
    },
    {
      "cell_type": "markdown",
      "metadata": {
        "id": "oSMDHl7K1Bm_",
        "colab_type": "text"
      },
      "source": [
        "#### Answer"
      ]
    },
    {
      "cell_type": "markdown",
      "metadata": {
        "id": "sQFvST-U1EUK",
        "colab_type": "text"
      },
      "source": [
        "#### Result positive because the acording helpmap we observed to the focus in previous and pdays can modify the actual scenarie"
      ]
    },
    {
      "cell_type": "code",
      "metadata": {
        "id": "oGDuzXupcoQw",
        "colab_type": "code",
        "colab": {}
      },
      "source": [
        "df.corr(method='spearman').style.format('{:.2}').background_gradient(cmap=plt.get_cmap('coolwarm'),axis=1)"
      ],
      "execution_count": 0,
      "outputs": []
    },
    {
      "cell_type": "code",
      "metadata": {
        "id": "42LiKqQhcpds",
        "colab_type": "code",
        "colab": {}
      },
      "source": [
        "df['previous'].corr(df['pdays'])"
      ],
      "execution_count": 0,
      "outputs": []
    },
    {
      "cell_type": "markdown",
      "metadata": {
        "id": "ngy6P9fUcwGj",
        "colab_type": "text"
      },
      "source": [
        "#### 5) Qual o fator determinante para que o banco exija um seguro de crédito?"
      ]
    },
    {
      "cell_type": "markdown",
      "metadata": {
        "id": "7Lc4_EEY16JI",
        "colab_type": "text"
      },
      "source": [
        "#### Answer"
      ]
    },
    {
      "cell_type": "markdown",
      "metadata": {
        "id": "jBxDPYhL2Af-",
        "colab_type": "text"
      },
      "source": [
        "##### We observed to between age and balance have more weight the factor predominant and no significant changes occur regarding the campaign"
      ]
    },
    {
      "cell_type": "code",
      "metadata": {
        "id": "ipPA1RLkcrhj",
        "colab_type": "code",
        "colab": {}
      },
      "source": [
        "df.corr(method='pearson').style.format('{:.2}').background_gradient(cmap=plt.get_cmap('coolwarm'),axis=1)"
      ],
      "execution_count": 0,
      "outputs": []
    },
    {
      "cell_type": "code",
      "metadata": {
        "id": "mIe-HXzIcyJ-",
        "colab_type": "code",
        "colab": {}
      },
      "source": [
        "df.loc[(df['housing']=='no') & (df['loan']=='no')]\\\n",
        ".corr(method='pearson').style.format('{:.2}').background_gradient(cmap=plt.get_cmap('coolwarm'),axis=1)"
      ],
      "execution_count": 0,
      "outputs": []
    },
    {
      "cell_type": "code",
      "metadata": {
        "id": "t5YJQ74Rcz6d",
        "colab_type": "code",
        "colab": {}
      },
      "source": [
        "df.loc[(df['housing']=='yes') & (df['loan']=='yes')]\\\n",
        ".corr(method='pearson').style.format('{:.2}').background_gradient(cmap=plt.get_cmap('coolwarm'),axis=1)"
      ],
      "execution_count": 0,
      "outputs": []
    },
    {
      "cell_type": "markdown",
      "metadata": {
        "id": "vw-sR_iTc5PW",
        "colab_type": "text"
      },
      "source": [
        "#### 6) Quais são as características mais proeminentes de um cliente que possua empréstimo imobiliário?"
      ]
    },
    {
      "cell_type": "markdown",
      "metadata": {
        "id": "XHAeOy3W3i3-",
        "colab_type": "text"
      },
      "source": [
        "#### Answer"
      ]
    },
    {
      "cell_type": "markdown",
      "metadata": {
        "id": "7XlzTwkB3jbX",
        "colab_type": "text"
      },
      "source": [
        "##### the acording helpmap we observed to the factory age and balance have more relevace"
      ]
    },
    {
      "cell_type": "code",
      "metadata": {
        "id": "ZXerxKtpc7T5",
        "colab_type": "code",
        "colab": {}
      },
      "source": [
        "df_old = df[(df['age'] > 40)]\n",
        "df_old.head()"
      ],
      "execution_count": 0,
      "outputs": []
    },
    {
      "cell_type": "code",
      "metadata": {
        "id": "ahKLqCVAivbG",
        "colab_type": "code",
        "colab": {}
      },
      "source": [
        "df_young = df[(df['age'] < 40)]\n",
        "df_young.head()"
      ],
      "execution_count": 0,
      "outputs": []
    },
    {
      "cell_type": "code",
      "metadata": {
        "id": "q8lDsEw-jAiz",
        "colab_type": "code",
        "colab": {}
      },
      "source": [
        "df_old[['age','balance']].groupby(['age','balance'])['balance'].sum()"
      ],
      "execution_count": 0,
      "outputs": []
    },
    {
      "cell_type": "code",
      "metadata": {
        "id": "y9DA7V1IT0cF",
        "colab_type": "code",
        "colab": {}
      },
      "source": [
        "df.corr(method='pearson').style.format('{:.2}').background_gradient(cmap=plt.get_cmap('coolwarm'),axis=1)"
      ],
      "execution_count": 0,
      "outputs": []
    },
    {
      "cell_type": "code",
      "metadata": {
        "id": "yLxCQNWic6Cb",
        "colab_type": "code",
        "colab": {}
      },
      "source": [
        "df.loc[(df['age']>=40)]\\\n",
        ".corr(method='pearson').style.format('{:.2}').background_gradient(cmap=plt.get_cmap('coolwarm'),axis=1)"
      ],
      "execution_count": 0,
      "outputs": []
    },
    {
      "cell_type": "code",
      "metadata": {
        "id": "JPLCRiUAlh4n",
        "colab_type": "code",
        "colab": {}
      },
      "source": [
        "df.loc[(df['age']<40)]\\\n",
        ".corr(method='pearson').style.format('{:.2}').background_gradient(cmap=plt.get_cmap('coolwarm'),axis=1)"
      ],
      "execution_count": 0,
      "outputs": []
    },
    {
      "cell_type": "code",
      "metadata": {
        "id": "Pps2gJd6TFvJ",
        "colab_type": "code",
        "colab": {}
      },
      "source": [
        ""
      ],
      "execution_count": 0,
      "outputs": []
    }
  ]
}